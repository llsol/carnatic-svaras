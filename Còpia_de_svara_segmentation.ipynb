{
  "cells": [
    {
      "cell_type": "code",
      "execution_count": null,
      "metadata": {
        "id": "X1jmc_kfPV3K"
      },
      "outputs": [],
      "source": [
        "import mirdata\n",
        "import os\n",
        "import librosa\n",
        "import numpy as np\n",
        "import IPython.display as ipd\n",
        "import pandas as pd\n",
        "from scipy.io import wavfile"
      ]
    },
    {
      "cell_type": "code",
      "execution_count": null,
      "metadata": {
        "id": "EWqxAoUHPV3L"
      },
      "outputs": [],
      "source": [
        "audio_path = os.path.join('svara_task', 'svara_task', 'Kamakshi', 'Sanjay Subrahmanyan - Kamakshi.mp3')\n",
        "\n",
        "y, sr = librosa.load(audio_path, sr=None)"
      ]
    },
    {
      "cell_type": "code",
      "execution_count": null,
      "metadata": {
        "id": "aMM1UP8xPV3M"
      },
      "outputs": [],
      "source": [
        "print('y:', y)\n",
        "print (y.shape)"
      ]
    },
    {
      "cell_type": "code",
      "execution_count": null,
      "metadata": {
        "id": "7Cew2gYnPV3M"
      },
      "outputs": [],
      "source": [
        "# display audio\n",
        "ipd.Audio(y, rate=sr)\n",
        "\n"
      ]
    },
    {
      "cell_type": "code",
      "execution_count": null,
      "metadata": {
        "id": "0zSzHtrtPV3M"
      },
      "outputs": [],
      "source": [
        "svara_path = os.path.join('svara_task', 'svara_task', 'kamakshi_new.txt')\n",
        "\n",
        "# load the content of svara_path.txt as a dataframe with pandas\n",
        "headers = ['Level', 'Start', 'End', 'Duration', 'Label']\n",
        "svara = pd.read_csv(svara_path, sep='\\t', names=headers)\n",
        "\n",
        "print(svara)\n",
        "print(svara.shape)\n",
        "\n",
        "\n",
        "svara.insert(0, 'ID', range(1, len(svara) + 1))\n",
        "svara.set_index('ID', inplace=True)\n",
        "print(svara)\n",
        "print(svara.shape)\n",
        "\n"
      ]
    },
    {
      "cell_type": "code",
      "execution_count": null,
      "metadata": {
        "id": "9xe-mp1mPV3M"
      },
      "outputs": [],
      "source": []
    },
    {
      "cell_type": "code",
      "execution_count": null,
      "metadata": {
        "id": "Dp_XiOvzPV3N"
      },
      "outputs": [],
      "source": [
        "# svara_time = pd.DataFrame(columns=headers)\n",
        "\n",
        "for index, row in svara.iterrows():\n",
        "    # for a given row, take the start and end time and the svara (columns 2 and 3)\n",
        "\n",
        "    start_time = row[1]\n",
        "    end_time = row[2]\n",
        "    duration = row[3]\n",
        "\n",
        "    # print('start_time:', start_time)\n",
        "    # print('end_time:', end_time)\n",
        "\n",
        "    # convert start and end time from string to float\n",
        "    hours_s, minutes_s, seconds_s = map(float, start_time.split(':'))\n",
        "    seconds_s += hours_s * 3600 + minutes_s * 60\n",
        "\n",
        "    hours_e, minutes_e, seconds_e = map(float, end_time.split(':'))\n",
        "    seconds_e += hours_e * 3600 + minutes_e * 60\n",
        "\n",
        "    hours_d, minutes_d, seconds_d = map(float, duration.split(':'))\n",
        "    seconds_d += hours_d * 3600 + minutes_d * 60\n",
        "\n",
        "    # Update the current row with the modified values\n",
        "    svara.at[index, 'Start'] = seconds_s\n",
        "    svara.at[index, 'End'] = seconds_e\n",
        "    svara.at[index, 'Duration'] = seconds_d\n",
        "\n",
        "\n",
        "\n",
        "\n",
        "\n",
        "print(svara)"
      ]
    },
    {
      "cell_type": "code",
      "execution_count": null,
      "metadata": {
        "id": "SL9ohwlRPV3N"
      },
      "outputs": [],
      "source": [
        "# extract the audio segment corresponding to the row\n",
        "start_sample = int(seconds_s * sr)\n",
        "end_sample = int(seconds_e * sr)\n",
        "y_segment = y[start_sample:end_sample]\n",
        "\n",
        "# display the audio segment\n",
        "ipd.Audio(y_segment, rate=sr)\n"
      ]
    },
    {
      "cell_type": "code",
      "execution_count": null,
      "metadata": {
        "id": "4pTaryCRPV3N"
      },
      "outputs": [],
      "source": [
        "svara_list = ['sa', 'ri', 'ga', 'ma', 'pa', 'dha', 'ni']\n",
        "# filter dataframe by Label equals 'sa'\n",
        "for element in svara_list:\n",
        "    # Filter the original DataFrame based on the current element\n",
        "    filtered_df = svara[svara['Label'] == element]\n",
        "\n",
        "    # Assign the filtered DataFrame to a new variable dynamically\n",
        "    globals()['svara_' + element] = filtered_df\n",
        "\n",
        "    # Print the filtered DataFrame\n",
        "    print('svara_' + element + ':')\n",
        "    print(filtered_df)\n"
      ]
    },
    {
      "cell_type": "code",
      "execution_count": null,
      "metadata": {
        "id": "YH5FZsqmPV3O"
      },
      "outputs": [],
      "source": [
        "# create a folder named 'single_svara' to store the audio segments\n",
        "if not os.path.exists('single_svara'):\n",
        "    os.makedirs('single_svara')\n",
        "\n",
        "for element in svara_list:\n",
        "\n",
        "# extract the audio segment corresponding to the row for 'sa'\n",
        "    for index, row in globals()['svara_' + element].iterrows():\n",
        "        start_sample = int(row[1] * sr)\n",
        "        end_sample = int(row[2] * sr)\n",
        "        y_segment = y[start_sample:end_sample]\n",
        "        # save the audio segment to a file\n",
        "        audio_segment_path = os.path.join('single_svara', element +'_' + str(index) + '.wav')\n",
        "        wavfile.write(audio_segment_path, sr, y_segment)\n"
      ]
    }
  ],
  "metadata": {
    "kernelspec": {
      "display_name": "bh",
      "language": "python",
      "name": "python3"
    },
    "language_info": {
      "codemirror_mode": {
        "name": "ipython",
        "version": 3
      },
      "file_extension": ".py",
      "mimetype": "text/x-python",
      "name": "python",
      "nbconvert_exporter": "python",
      "pygments_lexer": "ipython3",
      "version": "3.9.19"
    },
    "colab": {
      "provenance": []
    }
  },
  "nbformat": 4,
  "nbformat_minor": 0
}